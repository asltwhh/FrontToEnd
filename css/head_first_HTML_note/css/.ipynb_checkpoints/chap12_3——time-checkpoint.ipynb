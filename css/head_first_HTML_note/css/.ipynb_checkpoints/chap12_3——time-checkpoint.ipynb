{
 "cells": [
  {
   "cell_type": "markdown",
   "metadata": {},
   "source": [
    "### 增加日期<time元素>\n",
    "    - 增加time元素主要是为了在爬取时了解到这是一个时间\n",
    "    - <time>元素的一个重要属性datetime\n",
    "    - 如果元素的内容没有使用官方Internet的日期格式写，就需要有datetime属性\n",
    "        - 官方Internet格式：YYYY-MM-DD hh:mm:ssTZD\n",
    "        - <time datetime=\"YYYY-MM-DD hh:mm:ssTZD\">...</time>\n",
    "            - 年-月-日T时：分：秒\n",
    "            - TZD是时区\n",
    "            - 注意可以只写年，年月，年月日，时间，不必全都写出\n",
    "                <time datetime=\"2020-02-19\">2/19/2020</time>\n",
    "                <time datetime=\"2012\">2020年</time>"
   ]
  },
  {
   "cell_type": "markdown",
   "metadata": {},
   "source": [
    "<time datetime=\"2020-03-12 21:27:30Z\">2020年3月12日晚上九点二十七分(utc时间)</time>\n",
    "\n",
    "<time datetime=\"21:27:30Z\">晚上九点二十七分(utc时间)</time>\n"
   ]
  }
 ],
 "metadata": {
  "kernelspec": {
   "display_name": "Python 3",
   "language": "python",
   "name": "python3"
  },
  "language_info": {
   "codemirror_mode": {
    "name": "ipython",
    "version": 3
   },
   "file_extension": ".py",
   "mimetype": "text/x-python",
   "name": "python",
   "nbconvert_exporter": "python",
   "pygments_lexer": "ipython3",
   "version": "3.7.1"
  }
 },
 "nbformat": 4,
 "nbformat_minor": 2
}
