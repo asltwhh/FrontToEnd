{
 "cells": [
  {
   "cell_type": "markdown",
   "metadata": {},
   "source": [
    "### 单选钮radio\n",
    "    - 设定多个单选钮时，一次只能选中一个单选钮,当选中某一个按钮时，其余的按钮会自动弹起\n",
    "        <input type=\"radio\" name=\"hotorcold\" value=\"hot\" checked>  hot   \n",
    "        <input type=\"radio\" name=\"hotorcold\" value=\"cold\">  cold\n",
    "        - 为任何一个钮添加checked(布尔属性，不需要值)，则当链接打开时，该按钮默认是选中的状态\n",
    "        - 对于单选按钮，value属性值的内容不会出现在 用户界面。value 属性值只在提交表单时向服务端传递数据。如果一个 单选按钮处于选中状态，在提交表单时，单选按钮的值才会传递到服务端（未选中按钮是不会传递数据到服务端的）。所以单选按钮的value需要与选择项的内容保持一致\n",
    "        - 单选按钮的name要保持一致，因为在传送表单时只会对应其中一个值，这写按钮选项都是name的一个可能值\n",
    "<input type=\"radio\" name=\"hotornot\" value=\"hot\" checked>  hot  \n",
    "<input type=\"radio\" name=\"hotornot\" value=\"cold\">  cold"
   ]
  },
  {
   "cell_type": "markdown",
   "metadata": {},
   "source": [
    "### 复选框checkbox\n",
    "    - 可以选中两个或者两个以上的按钮\n",
    "        <input type=\"checkbox\" name=\"food_like[]\" value=\"banana\" checked>  banana\n",
    "        <input type=\"checkbox\" name=\"food_like[]\" value=\"orange\">  orange\n",
    "        <input type=\"checkbox\" name=\"food_like[]\" value=\"apple\">  apple \n",
    "        - 对于复选框，为了表示一个表单元素可以选择多个值，所以一般在name后会加入一个[]\n",
    "<input type=\"checkbox\" name=\"food_like[]\" value=\"banana\" checked>  banana<br>\n",
    "<input type=\"checkbox\" name=\"food_like[]\" value=\"orange\">  orange  <br>\n",
    "<input type=\"checkbox\" name=\"food_like[]\" value=\"apple\">  apple"
   ]
  },
  {
   "cell_type": "markdown",
   "metadata": {},
   "source": [
    "### 多行文本区textarea\n",
    "       - 创建一个可以输入多行文本的区域，当文本内容在规定的区域放不下时，在其右方还会出现一个滚动条\n",
    "       <textarea name=\"comments\" rows=\"10\" cols=\"48>haha</textarea>\n",
    "           - haha作为文本框中的初始文本\n",
    "           - name属性制定一个唯一的名字\n",
    "           - rows和cols指定文本框的大小\n",
    "<textarea name=\"comments\" rows=\"10\" cols=\"48>haha</textarea>\n",
    "                                          "
   ]
  },
  {
   "cell_type": "markdown",
   "metadata": {},
   "source": [
    "### 下拉式单选菜单select，结合option元素\n",
    "    - 提供了一组从一组选项中做出选择的方法\n",
    "        characters:\n",
    "        <select name=\"characters\">\n",
    "            <option value=\"happy\">happy zhang</option>\n",
    "            <option value=\"angry\">angry li</option>\n",
    "            <option value=\"hurry\">hurry wang</option>\n",
    "            <option value=\"excited\">excited kang</option>\n",
    "            <option value=\"wonderful\">wonderful wu</option>\n",
    "        </select>\n",
    "characters:\n",
    "<select name=\"characters\">\n",
    "     <option value=\"happy\">happy zhang</option>\n",
    "     <option value=\"angry\">angry li</option>\n",
    "     <option value=\"hurry\">hurry wang</option>\n",
    "     <option value=\"excited\">excited kang</option>\n",
    "     <option value=\"wonderful\">wonderful wu</option>\n",
    "</select>"
   ]
  },
  {
   "cell_type": "markdown",
   "metadata": {},
   "source": [
    "### 多选菜单：在单选菜单的基础上添加multiple属性\n",
    "    characters:\n",
    "    <select name=\"characters\" multiple>\n",
    "         <option value=\"happy\">happy zhang</option>\n",
    "         <option value=\"angry\">angry li</option>\n",
    "         <option value=\"hurry\">hurry wang</option>\n",
    "         <option value=\"excited\">excited kang</option>\n",
    "         <option value=\"wonderful\">wonderful wu</option>\n",
    "    </select>\n",
    "    - 显示时所有的选项会以展开的形式显示，按住ctrl键可以选择多个选项\n",
    "characters:\n",
    "<select name=\"characters\" multiple>\n",
    "     <option value=\"happy\">happy zhang</option>\n",
    "     <option value=\"angry\">angry li</option>\n",
    "     <option value=\"hurry\">hurry wang</option>\n",
    "     <option value=\"excited\">excited kang</option>\n",
    "     <option value=\"wonderful\">wonderful wu</option>\n",
    "</select>"
   ]
  },
  {
   "attachments": {
    "%E5%9B%BE%E7%89%87.png": {
     "image/png": "[encoded data removed]"
    }
   },
   "cell_type": "markdown",
   "metadata": {},
   "source": [
    "# 数字输入\n",
    "    number: <input type=\"number\" min=\"0\" max=\"9\" step=\"2\">\n",
    "        - 使用min和max控制输入数字的范围，右边出现的两个箭头分别用来增加和减小数字\n",
    "        - step默认是1\n",
    "number: <input type=\"number\" min=\"0\" max=\"20\" step=\"2\"><br>\n",
    "    - 当输入的数超出范围时：\n",
    "![%E5%9B%BE%E7%89%87.png](attachment:%E5%9B%BE%E7%89%87.png)"
   ]
  },
  {
   "cell_type": "markdown",
   "metadata": {},
   "source": [
    "### 滑动条range\n",
    "    range:<input type=\"range\" min=\"0\" max=\"20\" step=\"5>\n",
    "range: <input type=\"range\" min=\"0\" max=\"20\" step=\"5\">"
   ]
  },
  {
   "cell_type": "markdown",
   "metadata": {},
   "source": [
    "### 颜色输入\n",
    "    color: <input type=\"color\">\n",
    "        - 单击这个控件时会弹出一个颜色选择框\n",
    "color: <input type=\"color\">"
   ]
  },
  {
   "cell_type": "markdown",
   "metadata": {},
   "source": [
    "### 日期输入\n",
    "    Date: <input type=\"date\">\n",
    "    - 单击这个控件时会弹出一个日期选择框\n",
    "Date: <input type=\"date\">"
   ]
  },
  {
   "cell_type": "markdown",
   "metadata": {},
   "source": [
    "### email输入\n",
    "    Email: <input type=\"email\">\n",
    "    - 单击这个控件时会弹出一个方便输入email的定制键盘\n",
    "Email: <input type=\"email\">"
   ]
  },
  {
   "cell_type": "markdown",
   "metadata": {},
   "source": [
    "# tel输入\n",
    "    Tel: <input type=\"tel\">\n",
    "    - 单击这个控件时会弹出一个方便输入电话号码的定制键盘\n",
    "tel: <input type=\"tel\">"
   ]
  },
  {
   "cell_type": "markdown",
   "metadata": {},
   "source": [
    "# url输入\n",
    "    URL: <input type=\"url\">\n",
    "    - 单击这个控件时会弹出一个方便输入url的定制键盘\n",
    "url: <input type=\"url\">"
   ]
  },
  {
   "cell_type": "markdown",
   "metadata": {},
   "source": [
    "## password输入\n",
    "    password: <input type=\"password\">\n",
    "    - 单击这个控件时会弹出一个方便输入url的定制键盘\n",
    "password: <input type=\"password\">\n"
   ]
  },
  {
   "cell_type": "markdown",
   "metadata": {},
   "source": [
    "### 文件输入\n",
    "     <input type=\"file\" name=\"doc\">\n",
    "    - 单击这个控件时会弹出一个方便输入url的定制键盘\n",
    "<input type=\"file\" name=\"doc\">"
   ]
  }
 ],
 "metadata": {
  "kernelspec": {
   "display_name": "Python 3",
   "language": "python",
   "name": "python3"
  },
  "language_info": {
   "codemirror_mode": {
    "name": "ipython",
    "version": 3
   },
   "file_extension": ".py",
   "mimetype": "text/x-python",
   "name": "python",
   "nbconvert_exporter": "python",
   "pygments_lexer": "ipython3",
   "version": "3.7.1"
  }
 },
 "nbformat": 4,
 "nbformat_minor": 2
}
