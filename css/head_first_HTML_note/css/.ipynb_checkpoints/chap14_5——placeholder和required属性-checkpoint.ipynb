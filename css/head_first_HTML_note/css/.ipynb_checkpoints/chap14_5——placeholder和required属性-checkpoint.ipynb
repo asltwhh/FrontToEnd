{
 "cells": [
  {
   "cell_type": "markdown",
   "metadata": {},
   "source": [
    "### placeholder属性\n",
    "    - 为填写表单的人提供一个提示\n",
    "    <input type=\"number\" min=\"0\" max=\"20\" placeholder=\"请输入数字0-20\">\n",
    "<input type=\"number\" min=\"0\" max=\"20\" placeholder=\"请输入数字0-20\">\n",
    "    "
   ]
  },
  {
   "cell_type": "markdown",
   "metadata": {},
   "source": [
    "### reqiured属性:\n",
    "    - 具备这个属性的表单元素，必须要填写内容，否则不能提交表单\n",
    "    <input type=\"number\" min=\"0\" max=\"20\" placeholder=\"请输入数字0-20\">\n",
    "<input type=\"number\" min=\"0\" max=\"20\" placeholder=\"请输入数字0-20\" required>"
   ]
  },
  {
   "attachments": {
    "%E5%9B%BE%E7%89%87.png": {
     "image/png": "[encoded data removed]"
    }
   },
   "cell_type": "markdown",
   "metadata": {},
   "source": [
    "![%E5%9B%BE%E7%89%87.png](attachment:%E5%9B%BE%E7%89%87.png)"
   ]
  }
 ],
 "metadata": {
  "kernelspec": {
   "display_name": "Python 3",
   "language": "python",
   "name": "python3"
  },
  "language_info": {
   "codemirror_mode": {
    "name": "ipython",
    "version": 3
   },
   "file_extension": ".py",
   "mimetype": "text/x-python",
   "name": "python",
   "nbconvert_exporter": "python",
   "pygments_lexer": "ipython3",
   "version": "3.7.1"
  }
 },
 "nbformat": 4,
 "nbformat_minor": 2
}
