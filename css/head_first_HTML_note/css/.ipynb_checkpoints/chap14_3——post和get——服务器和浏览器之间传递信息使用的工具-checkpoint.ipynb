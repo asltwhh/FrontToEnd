{
 "cells": [
  {
   "cell_type": "markdown",
   "metadata": {},
   "source": [
    "### post和get\n",
    "    - 两者都是将表单数据从浏览器发送给服务器\n",
    "    - post是将表单数据打包之后，在后台将它发送给服务器\n",
    "    - get是将表单数据打包之后，将所有的表单数据添加到url的后面，向服务器发送一个页面请求"
   ]
  },
  {
   "cell_type": "markdown",
   "metadata": {},
   "source": [
    "    - 举例分析：E:\\java前端\\学习代码与笔记\\css\\chap14代码\\contest\n",
    "#### 使用post方法：将表单数据\n",
    "    - 得到的目标界面的url为：https://wickedlysmart.com/hfhtmlcss/contest.php\n",
    "#### 使用get方法：\n",
    "    - 得到的目标界面的url为：https://wickedlysmart.com/hfhtmlcss/contest.php?firstname=Wu&lastname=Huanhuan\n"
   ]
  },
  {
   "cell_type": "markdown",
   "metadata": {},
   "source": [
    "### 两个方法的适用范围：\n",
    "    - 使用get:\n",
    "        - 当希望可以将提交表单之后的结果页面添加到标签页中就需要使用get\n",
    "    - 使用post:\n",
    "        - 如果表单中填写的数据比较私密时就需要使用post,因为get会将表单数据明文形式显示\n",
    "        - 如果表单数据过多时，就需要使用post,因为一般post和get清切对于发送的数据量都具备限制，但是post的限制较为宽松"
   ]
  }
 ],
 "metadata": {
  "kernelspec": {
   "display_name": "Python 3",
   "language": "python",
   "name": "python3"
  },
  "language_info": {
   "codemirror_mode": {
    "name": "ipython",
    "version": 3
   },
   "file_extension": ".py",
   "mimetype": "text/x-python",
   "name": "python",
   "nbconvert_exporter": "python",
   "pygments_lexer": "ipython3",
   "version": "3.7.1"
  }
 },
 "nbformat": 4,
 "nbformat_minor": 2
}
