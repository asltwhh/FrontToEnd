{
 "cells": [
  {
   "cell_type": "markdown",
   "metadata": {},
   "source": [
    "### 伪元素\n",
    "    - 可以指定元素内部某一部分内容的样式，这部分的内容可能不便于包围在div或者span中，也不方便用其他方法来选择\n",
    "        - span就是将其中的一些内联文本圈起来方便为其指定不同的样式\n",
    "    - 例如first-line和first-letter均是伪元素"
   ]
  },
  {
   "cell_type": "markdown",
   "metadata": {},
   "source": [
    "#### 1 first-line\n",
    "    - 可以选择块元素的第一行的内容，并为其指定样式\n",
    "    p:first-line{\n",
    "        font-size:3em;\n",
    "    }"
   ]
  },
  {
   "cell_type": "markdown",
   "metadata": {},
   "source": [
    "#### 2 first-letter\n",
    "    - 可以选择块元素的第一个字母，并为其指定样式\n",
    "    p:first-letter{\n",
    "        font-size:3em;\n",
    "    }"
   ]
  },
  {
   "cell_type": "markdown",
   "metadata": {},
   "source": [
    "### 属性选择器\n",
    "    - 根据属性值选择元素，为有规定属性或者属性值的元素设定样式\n",
    "    p[width]{  为有width属性的元素设置背景\n",
    "        background:url(tt.gif) red top left;\n",
    "    }\n",
    "    img[height=\"200\"]{   为高度为200像素的图像设置边框\n",
    "        border:thin red solid;\n",
    "    }\n",
    "    img[alt~=\"you\"]{   为alt属性值中包含you的图像设置边框\n",
    "        border:thin red solid;  \n",
    "    }\n",
    "    "
   ]
  },
  {
   "cell_type": "markdown",
   "metadata": {},
   "source": [
    "### 按兄弟元素选择\n",
    "    h1+p{  选择前面有一个h1元素的段落\n",
    "        font-style:italic;\n",
    "    }\n"
   ]
  },
  {
   "cell_type": "markdown",
   "metadata": {},
   "source": []
  }
 ],
 "metadata": {
  "kernelspec": {
   "display_name": "Python 3",
   "language": "python",
   "name": "python3"
  },
  "language_info": {
   "codemirror_mode": {
    "name": "ipython",
    "version": 3
   },
   "file_extension": ".py",
   "mimetype": "text/x-python",
   "name": "python",
   "nbconvert_exporter": "python",
   "pygments_lexer": "ipython3",
   "version": "3.7.1"
  }
 },
 "nbformat": 4,
 "nbformat_minor": 2
}
