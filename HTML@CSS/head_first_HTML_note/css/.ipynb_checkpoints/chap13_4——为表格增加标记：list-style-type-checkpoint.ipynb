{
 "cells": [
  {
   "attachments": {
    "%E5%9B%BE%E7%89%87.png": {
     "image/png": "[encoded data removed]"
    }
   },
   "cell_type": "markdown",
   "metadata": {},
   "source": [
    "### 为表格增加标记：list-style-type\n",
    "![%E5%9B%BE%E7%89%87.png](attachment:%E5%9B%BE%E7%89%87.png)\n",
    "    - 上面这个无序表中，使用的list-style-type:circle;\n",
    "    - disc（默认实心圆点）,square,none等等"
   ]
  },
  {
   "attachments": {
    "%E5%9B%BE%E7%89%87.png": {
     "image/png": "[encoded data removed]"
    }
   },
   "cell_type": "markdown",
   "metadata": {},
   "source": [
    "### 定制图片标记:list-style-image属性\n",
    "    li {\n",
    "      list-style-image: url(images/backpack.gif); \n",
    "      padding-top:      5px;\n",
    "      margin-left:      10px;\n",
    "    }\n",
    "![%E5%9B%BE%E7%89%87.png](attachment:%E5%9B%BE%E7%89%87.png)"
   ]
  },
  {
   "cell_type": "markdown",
   "metadata": {},
   "source": [
    "#### list-style-position属性：设置在何处放置列表项标记。\n",
    "    list-style-position：inside;在列表框内，和列表项占据一个单元格\n",
    "    list-style-position：outside;在列表框外\n",
    "    list-style-position：inherit ;规定应该从父元素继承 list-style-position 属性的值。"
   ]
  }
 ],
 "metadata": {
  "kernelspec": {
   "display_name": "Python 3",
   "language": "python",
   "name": "python3"
  },
  "language_info": {
   "codemirror_mode": {
    "name": "ipython",
    "version": 3
   },
   "file_extension": ".py",
   "mimetype": "text/x-python",
   "name": "python",
   "nbconvert_exporter": "python",
   "pygments_lexer": "ipython3",
   "version": "3.7.1"
  }
 },
 "nbformat": 4,
 "nbformat_minor": 2
}
