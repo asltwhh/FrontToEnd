{
 "cells": [
  {
   "cell_type": "markdown",
   "metadata": {},
   "source": [
    "## 层叠\n",
    "    - 样式表包含：页面创建者的样式表，读者添加的样式表，浏览器的默认样式表\n",
    "    - 所以，要确定一个元素的某个属性\n",
    "        - ① 找到所有与该元素的属性相关的声明\n",
    "        - ② 对规则进行排序，作者>读者>默认;\n",
    "        - ③ 计算特定性得分，按照特定性进行排序，例如\"p h1\"就比\"h1\"更加特定\n",
    "            - id class 元素（规则中全部存在则为111,如果只有元素则为001）\n",
    "            - 例如:\n",
    "                h1{...}为001;\n",
    "                .bb h1{...}为011,指定了类名bb;\n",
    "                p img为2，包含两个元素;\n",
    "                ol li p为3,包含三个元素\n",
    "                .bb .cc为20，包含两个类\n",
    "        - ④ 如果特定性得分出现相同的情况，则按照规则在样式表中出现的顺序进行排序，后出现的规则会覆盖掉前面出现的规则"
   ]
  },
  {
   "cell_type": "markdown",
   "metadata": {},
   "source": [
    "    - 例如：\n",
    "        <h1 class='bb\">Blueberry Bliss Elixir</h1>\n",
    "        - 第一步：收集所有样式表，找到所有相关的声明，并按照作者，读者，浏览器排序\n",
    "           作者的：\n",
    "           h1{\n",
    "                color:#efefef;\n",
    "            }\n",
    "            h1.bb{\n",
    "                color:blue;\n",
    "            }\n",
    "            读者的:\n",
    "            body h1{\n",
    "                color:#cccccc;\n",
    "            }\n",
    "            默认的：\n",
    "            h1{\n",
    "                color:black;\n",
    "            }\n",
    "        - 第二步：计算所有规则的特定性得分，按照特定性排序\n",
    "            作者：\n",
    "            h1{\n",
    "                color:#efefef;          特定性得分：001\n",
    "            }\n",
    "            h1.bb{\n",
    "                color:blue;          特定性得分：011\n",
    "            }\n",
    "            读者的:\n",
    "            body h1{\n",
    "                color:#cccccc;          特定性得分：001\n",
    "            }\n",
    "            默认的：\n",
    "            h1{\n",
    "                color:black;          特定性得分：001\n",
    "            }\n",
    "            - 在这个环节\"h1 bb\"胜出\n",
    "        - 第三步：如果出现了相同的特定性得分，则按照样式表出现的先后顺序确定属性值，本次没有冲突，从而<h1>元素的颜色是blue;"
   ]
  }
 ],
 "metadata": {
  "kernelspec": {
   "display_name": "Python 3",
   "language": "python",
   "name": "python3"
  },
  "language_info": {
   "codemirror_mode": {
    "name": "ipython",
    "version": 3
   },
   "file_extension": ".py",
   "mimetype": "text/x-python",
   "name": "python",
   "nbconvert_exporter": "python",
   "pygments_lexer": "ipython3",
   "version": "3.7.1"
  }
 },
 "nbformat": 4,
 "nbformat_minor": 2
}
