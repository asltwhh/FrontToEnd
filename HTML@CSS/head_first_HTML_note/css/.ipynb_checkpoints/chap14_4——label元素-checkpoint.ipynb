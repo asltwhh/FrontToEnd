{
 "cells": [
  {
   "cell_type": "markdown",
   "metadata": {},
   "source": [
    "### label元素\n",
    "    - 对于标记文本就需要使用label元素处理\n",
    "        - label中有一个for属性，指定为哪个id设置标记文本\n",
    "        - 所以，在使用label前，我们需要先为元素设定id\n",
    "    - 虽然我们可以直接输入文本得到相同的结果，但是使用label元素可以提供页面结构的更多信息，并且在CSS中也更加容易设定样式\n",
    "        <input type=\"radio\" name=\"weather\" id=\"cold\" value=\"cold\" checked>\n",
    "        <label for=\"cold\">cold</label>\n",
    "        <br>\n",
    "        <input type=\"radio\" name=\"weather\" id=\"hot\" value=\"hot\">\n",
    "        <label for=\"hot\">hot</label>\n",
    "<input type=\"radio\" name=\"weather\" id=\"cold\" value=\"cold\" checked>\n",
    "<label for=\"cold\">cold</label>\n",
    "<br>\n",
    "<input type=\"radio\" name=\"weather\" id=\"hot\" value=\"hot\">\n",
    "<label for=\"hot\">hot</label>"
   ]
  },
  {
   "cell_type": "markdown",
   "metadata": {},
   "source": [
    "### fieldset和legend元素\n",
    "    - fieldset将公共元素组织在一起\n",
    "    - legend元素为这些公共元素提供一个大标签\n",
    "        <fieldset>\n",
    "            <legend>Weather</legend>\n",
    "            <input type=\"radio\" name=\"weather\" id=\"cold\" value=\"cold\" checked>\n",
    "            <label for=\"cold\">cold</label>\n",
    "            <br>\n",
    "            <input type=\"radio\" name=\"weather\" id=\"hot\" value=\"hot\">\n",
    "            <label for=\"hot\">hot</label>\n",
    "        </fieldset>\n",
    "<fieldset>\n",
    "            <legend>Weather</legend>\n",
    "            <input type=\"radio\" name=\"weather\" id=\"cold\" value=\"cold\" checked>\n",
    "            <label for=\"cold\">cold</label>\n",
    "            <br>\n",
    "            <input type=\"radio\" name=\"weather\" id=\"hot\" value=\"hot\">\n",
    "            <label for=\"hot\">hot</label>\n",
    "        </fieldset>"
   ]
  },
  {
   "cell_type": "markdown",
   "metadata": {},
   "source": []
  }
 ],
 "metadata": {
  "kernelspec": {
   "display_name": "Python 3",
   "language": "python",
   "name": "python3"
  },
  "language_info": {
   "codemirror_mode": {
    "name": "ipython",
    "version": 3
   },
   "file_extension": ".py",
   "mimetype": "text/x-python",
   "name": "python",
   "nbconvert_exporter": "python",
   "pygments_lexer": "ipython3",
   "version": "3.7.1"
  }
 },
 "nbformat": 4,
 "nbformat_minor": 2
}
