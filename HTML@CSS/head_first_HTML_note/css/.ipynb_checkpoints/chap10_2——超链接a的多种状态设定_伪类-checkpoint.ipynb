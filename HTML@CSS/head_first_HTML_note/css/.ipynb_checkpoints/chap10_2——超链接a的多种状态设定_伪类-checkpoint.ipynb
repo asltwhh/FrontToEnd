{
 "cells": [
  {
   "cell_type": "markdown",
   "metadata": {},
   "source": [
    "## 超链接a的多种状态：CSS文件中\n",
    "    - 未访问状态：a:link{...}\n",
    "    - 已访问状态:a.visited{...}\n",
    "    - 悬停状态（将鼠标放在链接上，不点击）：a.hover{...}\n",
    "    - 按住Tab键点击链接，此时该链接就称为焦点状态:a.focus{...}\n",
    "        - 按住tab键点开链接时会打开一个新的标签页，原网页不会被覆盖，还可以从原网页出发访问其他页面，所以称此时该页面得到了焦点\n",
    "    - 用户第一次单击一个链接时就处于活动状态：a.active{...}"
   ]
  },
  {
   "cell_type": "markdown",
   "metadata": {},
   "source": []
  }
 ],
 "metadata": {
  "kernelspec": {
   "display_name": "Python 3",
   "language": "python",
   "name": "python3"
  },
  "language_info": {
   "codemirror_mode": {
    "name": "ipython",
    "version": 3
   },
   "file_extension": ".py",
   "mimetype": "text/x-python",
   "name": "python",
   "nbconvert_exporter": "python",
   "pygments_lexer": "ipython3",
   "version": "3.7.1"
  }
 },
 "nbformat": 4,
 "nbformat_minor": 2
}
