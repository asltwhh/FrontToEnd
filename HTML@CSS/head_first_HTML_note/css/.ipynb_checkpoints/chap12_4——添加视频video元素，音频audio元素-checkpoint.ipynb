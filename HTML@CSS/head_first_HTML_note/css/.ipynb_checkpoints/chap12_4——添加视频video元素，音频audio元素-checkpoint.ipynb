{
 "cells": [
  {
   "cell_type": "markdown",
   "metadata": {},
   "source": [
    "### video元素\n",
    "    - <video controls autoplay width=\"512\" height=\"288\">\n",
    "\t\t<source src=\"video/tweetsip.mp4\">\n",
    "\t\t<source src=\"video/tweetsip.webm\">\n",
    "\t\t<source src=\"video/tweetsip.ogv\">\n",
    "        <object>...</object>\n",
    "\t\t<p>Sorry, your browser doesn't support the video element.</p>\n",
    "\t  </video>\n",
    "<video controls autoplay width=\"512\" height=\"288\">\n",
    "\t\t<source src=\"video/tweetsip.mp4\">\n",
    "\t\t<source src=\"video/tweetsip.webm\">\n",
    "\t\t<source src=\"video/tweetsip.ogv\">\n",
    "        <object>...</object>\n",
    "\t\t<p>Sorry, your browser doesn't support the video element.</p>\n",
    "\t  </video>\n",
    "          - contols属性会为视频提供一些控制播放的控件，不同的浏览器增加的控件不同\n",
    "          - autoplay会控制一旦页面加载就会自动播放视频，这两种属性是布尔属性，一旦存在，就会产生效果\n",
    "          - poster属性：当视频未加载时就会将这个图片作为封面\n",
    "          - object属性播放flash视频\n",
    "    - 由于视频有好多种格式，为了保证浏览器可以完全识别，我们加入了三种视频格式\n",
    "    - 这里已经定义了video窗口的大小，如果不需要添加其他的css格式，就可以不添加css"
   ]
  },
  {
   "cell_type": "markdown",
   "metadata": {},
   "source": [
    "### video的其他属性\n",
    "    - loop:布尔属性，当存在时，会自动循环播放视频\n",
    "    - preload属性：在播放视频之前加载视频的内容或者元数据\n",
    "        - preload:none;在播放之前不加载视频\n",
    "        - preload:metadata;在播放之前加载元数据\n",
    "        - preload:auto;在播放之前浏览器自动选择"
   ]
  },
  {
   "cell_type": "markdown",
   "metadata": {},
   "source": [
    "### 几种常见的视频格式：\n",
    "    - 主流浏览器主要有三种视频格式：\n",
    "        - WebM容器：包含vp8视频编码和Vorbis音频编码\n",
    "        - MP4容器：H.264视频编码和AAC音频编码\n",
    "        - Ogg容器：Theora视频编码和Vorbis音频编码"
   ]
  },
  {
   "cell_type": "markdown",
   "metadata": {},
   "source": [
    "## audio元素\n",
    "    <audio controls src=\"song.mp3\">\n",
    "      Sorry, your browser doesn't support the video element.</p>\n",
    "    </audio>\n",
    "<audio controls src=\"song.mp3\">\n",
    "  Sorry, your browser doesn't support the video element.</p>\n",
    "</audio>"
   ]
  },
  {
   "cell_type": "markdown",
   "metadata": {},
   "source": [
    "\n",
    "        "
   ]
  }
 ],
 "metadata": {
  "kernelspec": {
   "display_name": "Python 3",
   "language": "python",
   "name": "python3"
  },
  "language_info": {
   "codemirror_mode": {
    "name": "ipython",
    "version": 3
   },
   "file_extension": ".py",
   "mimetype": "text/x-python",
   "name": "python",
   "nbconvert_exporter": "python",
   "pygments_lexer": "ipython3",
   "version": "3.7.1"
  }
 },
 "nbformat": 4,
 "nbformat_minor": 2
}
