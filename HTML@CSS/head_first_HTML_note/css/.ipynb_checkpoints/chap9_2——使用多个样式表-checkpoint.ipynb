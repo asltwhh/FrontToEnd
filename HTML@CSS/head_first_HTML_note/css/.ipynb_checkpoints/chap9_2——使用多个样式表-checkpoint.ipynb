{
 "cells": [
  {
   "cell_type": "markdown",
   "metadata": {},
   "source": [
    "## 使用多个样式表：link多个css文件\n",
    "    <link style=\"text/css\" rel=\"stylesheet\" href=\"form1.css\">\n",
    "    <link style=\"text/css\" rel=\"stylesheet\" href=\"form2.css\">\n",
    "    <link style=\"text/css\" rel=\"stylesheet\" href=\"form3.css\">\n",
    "    - 顺序很重要，form2样式表可以对form1样式表进行添加或者覆盖掉其中的一些规则\n",
    "    - 同理，form3样式表可以对form2样式表进行添加或者覆盖掉其中的一些规则\n",
    "        - 例如在form1.css中规定font-family:small;在form2.css中规定font-family:x-small;在form3.css中规定font-family:x-large;最终运行的结果就是x-large"
   ]
  },
  {
   "cell_type": "markdown",
   "metadata": {},
   "source": [
    "## media属性：将样式表应用于其它的设备（PC，平板，手机等）调整页面样式\n",
    "    - media属性允许你指定使用这个样式表的设备类型\n",
    "    - 例如：\n",
    "        - 规定有屏幕的设备并且屏幕宽度不超过480px\n",
    "            <link style=\"text/css\" rel=\"stylesheet\" href=\"form1.css\" media=\"screen and (max-device-width:480px)\"> \n",
    "            类似的有min-device-width,orientation:横向（landscape）或者纵向（portrait）\n",
    "        - 匹配打印机设备：\n",
    "            <link style=\"text/css\" rel=\"stylesheet\" href=\"form2.css\" media=\"print\">\n",
    "    \n",
    "   "
   ]
  },
  {
   "cell_type": "markdown",
   "metadata": {},
   "source": [
    "## 直接在CSS中增加媒体查询"
   ]
  }
 ],
 "metadata": {
  "kernelspec": {
   "display_name": "Python 3",
   "language": "python",
   "name": "python3"
  },
  "language_info": {
   "codemirror_mode": {
    "name": "ipython",
    "version": 3
   },
   "file_extension": ".py",
   "mimetype": "text/x-python",
   "name": "python",
   "nbconvert_exporter": "python",
   "pygments_lexer": "ipython3",
   "version": "3.7.1"
  }
 },
 "nbformat": 4,
 "nbformat_minor": 2
}
