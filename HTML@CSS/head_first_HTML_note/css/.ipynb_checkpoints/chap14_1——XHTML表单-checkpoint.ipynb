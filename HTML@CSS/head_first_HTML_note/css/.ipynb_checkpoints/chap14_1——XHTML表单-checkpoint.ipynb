{
 "cells": [
  {
   "cell_type": "markdown",
   "metadata": {},
   "source": [
    "### 本章的主要内容：得到用户的反馈"
   ]
  },
  {
   "cell_type": "markdown",
   "metadata": {},
   "source": [
    "### 表单如何工作\n",
    "    - 用户访问一个包含表单的web界面，填写表单，提交\n",
    "    - web浏览器将所有数据打包发送给web服务器，web服务器收到数据，并且将其传送给一个服务器脚本进行处理\n",
    "    - 服务器脚本处理完数据，创建一个全新的web界面作为响应，将其依次传递到服务器和浏览器，最终显示该界面"
   ]
  },
  {
   "attachments": {
    "%E5%9B%BE%E7%89%87.png": {
     "image/png": "[encoded data removed]"
    }
   },
   "cell_type": "markdown",
   "metadata": {},
   "source": [
    "### 创建表单\n",
    "        <form action=\"http://wickedlysmart.com/hfhtmlcss/contest.php\" method=\"POST\">\n",
    "          <p>Just type in your name (and click Submit) to enter the contest:<br>\n",
    "\n",
    "            First name: <input type=\"text\" name=\"firstname\" value=\"\"><br>\n",
    "            Last name:  <input type=\"text\" name=\"lastname\" value=\"\"><br>\n",
    "            <input type=\"submit\">\n",
    "          </p>\n",
    "        </form>\n",
    "![%E5%9B%BE%E7%89%87.png](attachment:%E5%9B%BE%E7%89%87.png)\n",
    "    - 所有的表单元素均放在一个form元素中，并且需要指明表单的提交位置\n",
    "        - .php文件时服务器脚本文件，所以action就是告诉浏览器需要处理该表单数据的服务器脚本文件的位置\n",
    "            - 创建服务器脚本需要专门学习\n",
    "        - post确定表单数据如何发送到服务器\n",
    "    - 文本内容需要使用input元素创建,type为text\n",
    "    - 按钮也使用input内容创建，但是type为submit\n",
    "        - 如果不想提交按钮上显示提交，可以添加value属性，为其添加特定的内容\n",
    "    - 每个表单元素的name都必须是唯一的，但是单选钮不同，它属于一组，相当于是一个元素，所以可以指定相同的内容"
   ]
  },
  {
   "attachments": {
    "%E5%9B%BE%E7%89%87.png": {
     "image/png": "[encoded data removed]"
    }
   },
   "cell_type": "markdown",
   "metadata": {},
   "source": [
    "### 表单元素名name是如何工作的\n",
    "![%E5%9B%BE%E7%89%87.png](attachment:%E5%9B%BE%E7%89%87.png)"
   ]
  },
  {
   "cell_type": "markdown",
   "metadata": {},
   "source": [
    "    - 提交表单时，浏览器会根据这些唯一的元素名打包数据，即：\n",
    "    First name = Wu\n",
    "    Last name = Huanhuan"
   ]
  }
 ],
 "metadata": {
  "kernelspec": {
   "display_name": "Python 3",
   "language": "python",
   "name": "python3"
  },
  "language_info": {
   "codemirror_mode": {
    "name": "ipython",
    "version": 3
   },
   "file_extension": ".py",
   "mimetype": "text/x-python",
   "name": "python",
   "nbconvert_exporter": "python",
   "pygments_lexer": "ipython3",
   "version": "3.7.1"
  }
 },
 "nbformat": 4,
 "nbformat_minor": 2
}
